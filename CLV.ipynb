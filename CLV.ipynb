{
 "cells": [
  {
   "cell_type": "markdown",
   "id": "a62f19a7",
   "metadata": {
    "ExecuteTime": {
     "end_time": "2022-08-29T04:29:33.085689Z",
     "start_time": "2022-08-29T04:29:32.919994Z"
    }
   },
   "source": [
    "ref\n",
    "- https://www.kaggle.com/code/shailaja4247/customer-lifetime-value-prediction (dataset)\n",
    "- https://practicaldatascience.co.uk/data-science/how-to-calculate-clv-using-bgnbd-and-gamma-gamma (method-application)\n",
    "- https://colab.research.google.com/drive/1yxUkWZSBJWIoxBAi7MIxvkWKNgr0NXDH#scrollTo=Zh9sP9TIBtqA (method-theory)"
   ]
  },
  {
   "cell_type": "code",
   "execution_count": 9,
   "id": "68e67756",
   "metadata": {
    "ExecuteTime": {
     "end_time": "2022-08-29T04:29:33.085689Z",
     "start_time": "2022-08-29T04:29:32.919994Z"
    }
   },
   "outputs": [],
   "source": [
    "# Load the packages\n",
    "# ! pip install lifetimes\n",
    "\n",
    "import pandas as pd\n",
    "import seaborn as sns\n",
    "import matplotlib.pyplot as plt\n",
    "from matplotlib.pyplot import figure\n",
    "from lifetimes import BetaGeoFitter # model is based on the original Pareto/NBD model for CLV but much easier to implement\n",
    "from lifetimes import GammaGammaFitter # predictions for the monetary value\n",
    "from lifetimes.utils import calibration_and_holdout_data\n",
    "from lifetimes.utils import summary_data_from_transaction_data\n",
    "from lifetimes.plotting import plot_frequency_recency_matrix\n",
    "from lifetimes.plotting import plot_probability_alive_matrix\n",
    "from lifetimes.plotting import plot_period_transactions\n",
    "from lifetimes.plotting import plot_history_alive\n",
    "from lifetimes.plotting import plot_calibration_purchases_vs_holdout_purchases\n"
   ]
  },
  {
   "cell_type": "code",
   "execution_count": 4,
   "id": "b7cf2ff4",
   "metadata": {
    "ExecuteTime": {
     "end_time": "2022-08-29T00:06:34.462770Z",
     "start_time": "2022-08-29T00:04:55.193141Z"
    }
   },
   "outputs": [
    {
     "data": {
      "text/html": [
       "<div>\n",
       "<style scoped>\n",
       "    .dataframe tbody tr th:only-of-type {\n",
       "        vertical-align: middle;\n",
       "    }\n",
       "\n",
       "    .dataframe tbody tr th {\n",
       "        vertical-align: top;\n",
       "    }\n",
       "\n",
       "    .dataframe thead th {\n",
       "        text-align: right;\n",
       "    }\n",
       "</style>\n",
       "<table border=\"1\" class=\"dataframe\">\n",
       "  <thead>\n",
       "    <tr style=\"text-align: right;\">\n",
       "      <th></th>\n",
       "      <th>Invoice</th>\n",
       "      <th>StockCode</th>\n",
       "      <th>Description</th>\n",
       "      <th>Quantity</th>\n",
       "      <th>InvoiceDate</th>\n",
       "      <th>Price</th>\n",
       "      <th>Customer ID</th>\n",
       "      <th>Country</th>\n",
       "    </tr>\n",
       "  </thead>\n",
       "  <tbody>\n",
       "    <tr>\n",
       "      <th>0</th>\n",
       "      <td>489434</td>\n",
       "      <td>85048</td>\n",
       "      <td>15CM CHRISTMAS GLASS BALL 20 LIGHTS</td>\n",
       "      <td>12</td>\n",
       "      <td>2009-12-01 07:45:00</td>\n",
       "      <td>6.95</td>\n",
       "      <td>13085.0</td>\n",
       "      <td>United Kingdom</td>\n",
       "    </tr>\n",
       "    <tr>\n",
       "      <th>1</th>\n",
       "      <td>489434</td>\n",
       "      <td>79323P</td>\n",
       "      <td>PINK CHERRY LIGHTS</td>\n",
       "      <td>12</td>\n",
       "      <td>2009-12-01 07:45:00</td>\n",
       "      <td>6.75</td>\n",
       "      <td>13085.0</td>\n",
       "      <td>United Kingdom</td>\n",
       "    </tr>\n",
       "    <tr>\n",
       "      <th>2</th>\n",
       "      <td>489434</td>\n",
       "      <td>79323W</td>\n",
       "      <td>WHITE CHERRY LIGHTS</td>\n",
       "      <td>12</td>\n",
       "      <td>2009-12-01 07:45:00</td>\n",
       "      <td>6.75</td>\n",
       "      <td>13085.0</td>\n",
       "      <td>United Kingdom</td>\n",
       "    </tr>\n",
       "    <tr>\n",
       "      <th>3</th>\n",
       "      <td>489434</td>\n",
       "      <td>22041</td>\n",
       "      <td>RECORD FRAME 7\" SINGLE SIZE</td>\n",
       "      <td>48</td>\n",
       "      <td>2009-12-01 07:45:00</td>\n",
       "      <td>2.10</td>\n",
       "      <td>13085.0</td>\n",
       "      <td>United Kingdom</td>\n",
       "    </tr>\n",
       "    <tr>\n",
       "      <th>4</th>\n",
       "      <td>489434</td>\n",
       "      <td>21232</td>\n",
       "      <td>STRAWBERRY CERAMIC TRINKET BOX</td>\n",
       "      <td>24</td>\n",
       "      <td>2009-12-01 07:45:00</td>\n",
       "      <td>1.25</td>\n",
       "      <td>13085.0</td>\n",
       "      <td>United Kingdom</td>\n",
       "    </tr>\n",
       "  </tbody>\n",
       "</table>\n",
       "</div>"
      ],
      "text/plain": [
       "  Invoice StockCode                          Description  Quantity  \\\n",
       "0  489434     85048  15CM CHRISTMAS GLASS BALL 20 LIGHTS        12   \n",
       "1  489434    79323P                   PINK CHERRY LIGHTS        12   \n",
       "2  489434    79323W                  WHITE CHERRY LIGHTS        12   \n",
       "3  489434     22041         RECORD FRAME 7\" SINGLE SIZE         48   \n",
       "4  489434     21232       STRAWBERRY CERAMIC TRINKET BOX        24   \n",
       "\n",
       "          InvoiceDate  Price  Customer ID         Country  \n",
       "0 2009-12-01 07:45:00   6.95      13085.0  United Kingdom  \n",
       "1 2009-12-01 07:45:00   6.75      13085.0  United Kingdom  \n",
       "2 2009-12-01 07:45:00   6.75      13085.0  United Kingdom  \n",
       "3 2009-12-01 07:45:00   2.10      13085.0  United Kingdom  \n",
       "4 2009-12-01 07:45:00   1.25      13085.0  United Kingdom  "
      ]
     },
     "execution_count": 4,
     "metadata": {},
     "output_type": "execute_result"
    }
   ],
   "source": [
    "# Load data\n",
    "\n",
    "df = pd.read_excel('online_retail_II.xlsx')\n",
    "df.head()\n"
   ]
  },
  {
   "cell_type": "markdown",
   "id": "a17ae5ba",
   "metadata": {},
   "source": [
    "# Data preprocessing & EDA"
   ]
  },
  {
   "cell_type": "code",
   "execution_count": 7,
   "id": "5f079206",
   "metadata": {
    "ExecuteTime": {
     "end_time": "2022-08-29T04:28:14.421763Z",
     "start_time": "2022-08-29T04:28:14.363218Z"
    }
   },
   "outputs": [
    {
     "name": "stderr",
     "output_type": "stream",
     "text": [
      "/opt/anaconda3/lib/python3.7/site-packages/ipykernel_launcher.py:1: FutureWarning: Treating datetime data as categorical rather than numeric in `.describe` is deprecated and will be removed in a future version of pandas. Specify `datetime_is_numeric=True` to silence this warning and adopt the future behavior now.\n",
      "  \"\"\"Entry point for launching an IPython kernel.\n"
     ]
    },
    {
     "data": {
      "text/plain": [
       "count                  525461\n",
       "unique                  25296\n",
       "top       2010-12-06 16:57:00\n",
       "freq                      675\n",
       "first     2009-12-01 07:45:00\n",
       "last      2010-12-09 20:01:00\n",
       "Name: InvoiceDate, dtype: object"
      ]
     },
     "execution_count": 7,
     "metadata": {},
     "output_type": "execute_result"
    }
   ],
   "source": [
    "df['InvoiceDate'] = pd.to_datetime(df.InvoiceDate)\n",
    "df['InvoiceDate'].describe()"
   ]
  },
  {
   "cell_type": "code",
   "execution_count": 10,
   "id": "a1e0282f",
   "metadata": {
    "ExecuteTime": {
     "end_time": "2022-08-29T04:29:48.359867Z",
     "start_time": "2022-08-29T04:29:47.727342Z"
    }
   },
   "outputs": [
    {
     "data": {
      "text/html": [
       "<div>\n",
       "<style scoped>\n",
       "    .dataframe tbody tr th:only-of-type {\n",
       "        vertical-align: middle;\n",
       "    }\n",
       "\n",
       "    .dataframe tbody tr th {\n",
       "        vertical-align: top;\n",
       "    }\n",
       "\n",
       "    .dataframe thead th {\n",
       "        text-align: right;\n",
       "    }\n",
       "</style>\n",
       "<table border=\"1\" class=\"dataframe\">\n",
       "  <thead>\n",
       "    <tr style=\"text-align: right;\">\n",
       "      <th></th>\n",
       "      <th>frequency</th>\n",
       "      <th>recency</th>\n",
       "      <th>T</th>\n",
       "      <th>monetary_value</th>\n",
       "    </tr>\n",
       "    <tr>\n",
       "      <th>Customer ID</th>\n",
       "      <th></th>\n",
       "      <th></th>\n",
       "      <th></th>\n",
       "      <th></th>\n",
       "    </tr>\n",
       "  </thead>\n",
       "  <tbody>\n",
       "    <tr>\n",
       "      <th>12346.0</th>\n",
       "      <td>9.0</td>\n",
       "      <td>294.0</td>\n",
       "      <td>360.0</td>\n",
       "      <td>-17.186667</td>\n",
       "    </tr>\n",
       "    <tr>\n",
       "      <th>12347.0</th>\n",
       "      <td>1.0</td>\n",
       "      <td>37.0</td>\n",
       "      <td>39.0</td>\n",
       "      <td>711.790000</td>\n",
       "    </tr>\n",
       "    <tr>\n",
       "      <th>12348.0</th>\n",
       "      <td>0.0</td>\n",
       "      <td>0.0</td>\n",
       "      <td>73.0</td>\n",
       "      <td>0.000000</td>\n",
       "    </tr>\n",
       "    <tr>\n",
       "      <th>12349.0</th>\n",
       "      <td>3.0</td>\n",
       "      <td>328.0</td>\n",
       "      <td>370.0</td>\n",
       "      <td>890.380000</td>\n",
       "    </tr>\n",
       "    <tr>\n",
       "      <th>12351.0</th>\n",
       "      <td>0.0</td>\n",
       "      <td>0.0</td>\n",
       "      <td>10.0</td>\n",
       "      <td>0.000000</td>\n",
       "    </tr>\n",
       "  </tbody>\n",
       "</table>\n",
       "</div>"
      ],
      "text/plain": [
       "             frequency  recency      T  monetary_value\n",
       "Customer ID                                           \n",
       "12346.0            9.0    294.0  360.0      -17.186667\n",
       "12347.0            1.0     37.0   39.0      711.790000\n",
       "12348.0            0.0      0.0   73.0        0.000000\n",
       "12349.0            3.0    328.0  370.0      890.380000\n",
       "12351.0            0.0      0.0   10.0        0.000000"
      ]
     },
     "execution_count": 10,
     "metadata": {},
     "output_type": "execute_result"
    }
   ],
   "source": [
    "# Calculate recency, frequency, and monetary \n",
    "# Recency : time between first and last transaction\n",
    "# Frequency (repeat) : the number of purchases beyond the initial one\n",
    "# T : time between first purchase and end of calibration period \n",
    "# monetary value : all the transactions value in the training periods \n",
    "\n",
    "df['revenue'] = df.Quantity*df.Price\n",
    "\n",
    "df_rfmt = summary_data_from_transaction_data(df, \n",
    "                                             'Customer ID', \n",
    "                                             'InvoiceDate', \n",
    "                                             'revenue',\n",
    "                                             observation_period_end='2010-12-09')\n",
    "\n",
    "df_rfmt.head()"
   ]
  },
  {
   "cell_type": "code",
   "execution_count": 13,
   "id": "5bbf5083",
   "metadata": {
    "ExecuteTime": {
     "end_time": "2022-08-29T04:30:35.875161Z",
     "start_time": "2022-08-29T04:30:35.524669Z"
    }
   },
   "outputs": [
    {
     "data": {
      "image/png": "[encoded data removed]",
      "text/plain": [
       "<Figure size 432x288 with 1 Axes>"
      ]
     },
     "metadata": {
      "needs_background": "light"
     },
     "output_type": "display_data"
    }
   ],
   "source": [
    "sns.distplot(df_rfmt['recency'])\n",
    "plt.show()"
   ]
  },
  {
   "cell_type": "code",
   "execution_count": 14,
   "id": "8be66da1",
   "metadata": {
    "ExecuteTime": {
     "end_time": "2022-08-29T04:30:40.923959Z",
     "start_time": "2022-08-29T04:30:40.645584Z"
    }
   },
   "outputs": [
    {
     "data": {
      "image/png": "[encoded data removed]",
      "text/plain": [
       "<Figure size 432x288 with 1 Axes>"
      ]
     },
     "metadata": {
      "needs_background": "light"
     },
     "output_type": "display_data"
    }
   ],
   "source": [
    "sns.distplot(df_rfmt['frequency'])\n",
    "plt.show()"
   ]
  },
  {
   "cell_type": "code",
   "execution_count": 15,
   "id": "e730f619",
   "metadata": {
    "ExecuteTime": {
     "end_time": "2022-08-29T04:30:46.220854Z",
     "start_time": "2022-08-29T04:30:45.871502Z"
    }
   },
   "outputs": [
    {
     "data": {
      "image/png": "[encoded data removed]",
      "text/plain": [
       "<Figure size 432x288 with 1 Axes>"
      ]
     },
     "metadata": {
      "needs_background": "light"
     },
     "output_type": "display_data"
    }
   ],
   "source": [
    "sns.distplot(df_rfmt['monetary_value'])\n",
    "plt.show()"
   ]
  },
  {
   "cell_type": "code",
   "execution_count": 16,
   "id": "ee496b7c",
   "metadata": {
    "ExecuteTime": {
     "end_time": "2022-08-29T04:30:54.156795Z",
     "start_time": "2022-08-29T04:30:53.935655Z"
    }
   },
   "outputs": [
    {
     "data": {
      "image/png": "[encoded data removed]",
      "text/plain": [
       "<Figure size 432x288 with 1 Axes>"
      ]
     },
     "metadata": {
      "needs_background": "light"
     },
     "output_type": "display_data"
    }
   ],
   "source": [
    "sns.distplot(df_rfmt['T'])\n",
    "plt.show()"
   ]
  },
  {
   "cell_type": "markdown",
   "id": "b870c27e",
   "metadata": {},
   "source": [
    "# BG/NBD Model "
   ]
  },
  {
   "cell_type": "code",
   "execution_count": 17,
   "id": "55b14b27",
   "metadata": {
    "ExecuteTime": {
     "end_time": "2022-08-29T04:31:10.609881Z",
     "start_time": "2022-08-29T04:31:10.306560Z"
    }
   },
   "outputs": [
    {
     "data": {
      "text/html": [
       "<div>\n",
       "<style scoped>\n",
       "    .dataframe tbody tr th:only-of-type {\n",
       "        vertical-align: middle;\n",
       "    }\n",
       "\n",
       "    .dataframe tbody tr th {\n",
       "        vertical-align: top;\n",
       "    }\n",
       "\n",
       "    .dataframe thead th {\n",
       "        text-align: right;\n",
       "    }\n",
       "</style>\n",
       "<table border=\"1\" class=\"dataframe\">\n",
       "  <thead>\n",
       "    <tr style=\"text-align: right;\">\n",
       "      <th></th>\n",
       "      <th>coef</th>\n",
       "      <th>se(coef)</th>\n",
       "      <th>lower 95% bound</th>\n",
       "      <th>upper 95% bound</th>\n",
       "    </tr>\n",
       "  </thead>\n",
       "  <tbody>\n",
       "    <tr>\n",
       "      <th>r</th>\n",
       "      <td>0.860759</td>\n",
       "      <td>0.026544</td>\n",
       "      <td>0.808734</td>\n",
       "      <td>0.912784</td>\n",
       "    </tr>\n",
       "    <tr>\n",
       "      <th>alpha</th>\n",
       "      <td>56.190242</td>\n",
       "      <td>2.078990</td>\n",
       "      <td>52.115422</td>\n",
       "      <td>60.265063</td>\n",
       "    </tr>\n",
       "    <tr>\n",
       "      <th>a</th>\n",
       "      <td>0.040686</td>\n",
       "      <td>0.015445</td>\n",
       "      <td>0.010414</td>\n",
       "      <td>0.070959</td>\n",
       "    </tr>\n",
       "    <tr>\n",
       "      <th>b</th>\n",
       "      <td>1.925118</td>\n",
       "      <td>1.149928</td>\n",
       "      <td>-0.328741</td>\n",
       "      <td>4.178977</td>\n",
       "    </tr>\n",
       "  </tbody>\n",
       "</table>\n",
       "</div>"
      ],
      "text/plain": [
       "            coef  se(coef)  lower 95% bound  upper 95% bound\n",
       "r       0.860759  0.026544         0.808734         0.912784\n",
       "alpha  56.190242  2.078990        52.115422        60.265063\n",
       "a       0.040686  0.015445         0.010414         0.070959\n",
       "b       1.925118  1.149928        -0.328741         4.178977"
      ]
     },
     "execution_count": 17,
     "metadata": {},
     "output_type": "execute_result"
    }
   ],
   "source": [
    "# Fit the BG/NBD model\n",
    "\n",
    "bgf = BetaGeoFitter(penalizer_coef=0)\n",
    "bgf.fit(df_rfmt['frequency'], df_rfmt['recency'], df_rfmt['T'])\n",
    "bgf.summary\n"
   ]
  },
  {
   "cell_type": "code",
   "execution_count": 18,
   "id": "b3a1bd17",
   "metadata": {
    "ExecuteTime": {
     "end_time": "2022-08-29T04:31:27.291223Z",
     "start_time": "2022-08-29T04:31:22.741408Z"
    }
   },
   "outputs": [
    {
     "data": {
      "text/plain": [
       "<AxesSubplot:title={'center':'Expected Number of Future Purchases for 1 Unit of Time,\\nby Frequency and Recency of a Customer'}, xlabel=\"Customer's Historical Frequency\", ylabel=\"Customer's Recency\">"
      ]
     },
     "execution_count": 18,
     "metadata": {},
     "output_type": "execute_result"
    },
    {
     "data": {
      "image/png": "[encoded data removed]",
      "text/plain": [
       "<Figure size 800x800 with 2 Axes>"
      ]
     },
     "metadata": {},
     "output_type": "display_data"
    }
   ],
   "source": [
    "# Plot the recency and frequency of customers\n",
    "\n",
    "figure(num=None, figsize=(10, 10), dpi=80, facecolor='w', edgecolor='k')\n",
    "\n",
    "plot_frequency_recency_matrix(bgf)"
   ]
  },
  {
   "cell_type": "code",
   "execution_count": 19,
   "id": "9f274a14",
   "metadata": {
    "ExecuteTime": {
     "end_time": "2022-08-29T04:31:30.895191Z",
     "start_time": "2022-08-29T04:31:30.509648Z"
    }
   },
   "outputs": [
    {
     "data": {
      "text/plain": [
       "<AxesSubplot:title={'center':'Probability Customer is Alive,\\nby Frequency and Recency of a Customer'}, xlabel=\"Customer's Historical Frequency\", ylabel=\"Customer's Recency\">"
      ]
     },
     "execution_count": 19,
     "metadata": {},
     "output_type": "execute_result"
    },
    {
     "data": {
      "image/png": "[encoded data removed]",
      "text/plain": [
       "<Figure size 800x800 with 2 Axes>"
      ]
     },
     "metadata": {},
     "output_type": "display_data"
    }
   ],
   "source": [
    "# Plot the probability that each customer is alive\n",
    "\n",
    "figure(num=None, figsize=(10, 10), dpi=80, facecolor='w', edgecolor='k')\n",
    "\n",
    "plot_probability_alive_matrix(bgf)\n"
   ]
  },
  {
   "cell_type": "code",
   "execution_count": 20,
   "id": "96cd9523",
   "metadata": {
    "ExecuteTime": {
     "end_time": "2022-08-29T04:31:47.936658Z",
     "start_time": "2022-08-29T04:31:47.912874Z"
    }
   },
   "outputs": [],
   "source": [
    "# Predict the number of orders each customer will make during a time period\n",
    "\n",
    "t = 90\n",
    "df_rfmt['predicted_purchases'] = bgf.conditional_expected_number_of_purchases_up_to_time(t, \n",
    "                                                                                         df_rfmt['frequency'], \n",
    "                                                                                         df_rfmt['recency'], \n",
    "                                                                                         df_rfmt['T'])"
   ]
  },
  {
   "cell_type": "code",
   "execution_count": 21,
   "id": "3141b2e1",
   "metadata": {
    "ExecuteTime": {
     "end_time": "2022-08-29T04:31:55.275120Z",
     "start_time": "2022-08-29T04:31:54.922517Z"
    }
   },
   "outputs": [
    {
     "data": {
      "text/plain": [
       "<function matplotlib.pyplot.show(close=None, block=None)>"
      ]
     },
     "execution_count": 21,
     "metadata": {},
     "output_type": "execute_result"
    },
    {
     "data": {
      "image/png": "[encoded data removed]",
      "text/plain": [
       "<Figure size 432x288 with 1 Axes>"
      ]
     },
     "metadata": {
      "needs_background": "light"
     },
     "output_type": "display_data"
    }
   ],
   "source": [
    "sns.distplot(df_rfmt['predicted_purchases'])\n",
    "plt.show"
   ]
  },
  {
   "cell_type": "markdown",
   "id": "fdf74743",
   "metadata": {},
   "source": [
    "## Comparisons Between Model Predictions and Training Set"
   ]
  },
  {
   "cell_type": "code",
   "execution_count": 22,
   "id": "32a51285",
   "metadata": {
    "ExecuteTime": {
     "end_time": "2022-08-29T04:32:01.723753Z",
     "start_time": "2022-08-29T04:32:00.041331Z"
    }
   },
   "outputs": [
    {
     "data": {
      "text/plain": [
       "<AxesSubplot:title={'center':'Frequency of Repeat Transactions'}, xlabel='Number of Calibration Period Transactions', ylabel='Customers'>"
      ]
     },
     "execution_count": 22,
     "metadata": {},
     "output_type": "execute_result"
    },
    {
     "data": {
      "image/png": "[encoded data removed]",
      "text/plain": [
       "<Figure size 432x288 with 1 Axes>"
      ]
     },
     "metadata": {
      "needs_background": "light"
     },
     "output_type": "display_data"
    }
   ],
   "source": [
    "# Compare the model’s predictions to the actual data\n",
    "\n",
    "plot_period_transactions(bgf)\n"
   ]
  },
  {
   "cell_type": "markdown",
   "id": "88f17d7e",
   "metadata": {},
   "source": [
    "## Comparisons Between Predictions and the Holdout (Validation) Set "
   ]
  },
  {
   "cell_type": "code",
   "execution_count": 24,
   "id": "ae49e8a0",
   "metadata": {
    "ExecuteTime": {
     "end_time": "2022-08-29T04:35:00.220639Z",
     "start_time": "2022-08-29T04:34:40.366113Z"
    }
   },
   "outputs": [
    {
     "data": {
      "text/html": [
       "<div>\n",
       "<style scoped>\n",
       "    .dataframe tbody tr th:only-of-type {\n",
       "        vertical-align: middle;\n",
       "    }\n",
       "\n",
       "    .dataframe tbody tr th {\n",
       "        vertical-align: top;\n",
       "    }\n",
       "\n",
       "    .dataframe thead th {\n",
       "        text-align: right;\n",
       "    }\n",
       "</style>\n",
       "<table border=\"1\" class=\"dataframe\">\n",
       "  <thead>\n",
       "    <tr style=\"text-align: right;\">\n",
       "      <th></th>\n",
       "      <th>frequency_cal</th>\n",
       "      <th>recency_cal</th>\n",
       "      <th>T_cal</th>\n",
       "      <th>frequency_holdout</th>\n",
       "      <th>duration_holdout</th>\n",
       "    </tr>\n",
       "    <tr>\n",
       "      <th>Customer ID</th>\n",
       "      <th></th>\n",
       "      <th></th>\n",
       "      <th></th>\n",
       "      <th></th>\n",
       "      <th></th>\n",
       "    </tr>\n",
       "  </thead>\n",
       "  <tbody>\n",
       "    <tr>\n",
       "      <th>14911.0</th>\n",
       "      <td>88.0</td>\n",
       "      <td>273.0</td>\n",
       "      <td>274.0</td>\n",
       "      <td>54.0</td>\n",
       "      <td>99.0</td>\n",
       "    </tr>\n",
       "    <tr>\n",
       "      <th>12748.0</th>\n",
       "      <td>56.0</td>\n",
       "      <td>254.0</td>\n",
       "      <td>271.0</td>\n",
       "      <td>41.0</td>\n",
       "      <td>99.0</td>\n",
       "    </tr>\n",
       "    <tr>\n",
       "      <th>15311.0</th>\n",
       "      <td>81.0</td>\n",
       "      <td>269.0</td>\n",
       "      <td>274.0</td>\n",
       "      <td>32.0</td>\n",
       "      <td>99.0</td>\n",
       "    </tr>\n",
       "    <tr>\n",
       "      <th>14156.0</th>\n",
       "      <td>68.0</td>\n",
       "      <td>266.0</td>\n",
       "      <td>274.0</td>\n",
       "      <td>30.0</td>\n",
       "      <td>99.0</td>\n",
       "    </tr>\n",
       "    <tr>\n",
       "      <th>14606.0</th>\n",
       "      <td>66.0</td>\n",
       "      <td>263.0</td>\n",
       "      <td>272.0</td>\n",
       "      <td>29.0</td>\n",
       "      <td>99.0</td>\n",
       "    </tr>\n",
       "  </tbody>\n",
       "</table>\n",
       "</div>"
      ],
      "text/plain": [
       "             frequency_cal  recency_cal  T_cal  frequency_holdout  \\\n",
       "Customer ID                                                         \n",
       "14911.0               88.0        273.0  274.0               54.0   \n",
       "12748.0               56.0        254.0  271.0               41.0   \n",
       "15311.0               81.0        269.0  274.0               32.0   \n",
       "14156.0               68.0        266.0  274.0               30.0   \n",
       "14606.0               66.0        263.0  272.0               29.0   \n",
       "\n",
       "             duration_holdout  \n",
       "Customer ID                    \n",
       "14911.0                  99.0  \n",
       "12748.0                  99.0  \n",
       "15311.0                  99.0  \n",
       "14156.0                  99.0  \n",
       "14606.0                  99.0  "
      ]
     },
     "execution_count": 24,
     "metadata": {},
     "output_type": "execute_result"
    }
   ],
   "source": [
    "# Using a holdout group\n",
    "\n",
    "summary_cal_holdout = calibration_and_holdout_data(df, \n",
    "                                                   'Customer ID', \n",
    "                                                   'InvoiceDate',\n",
    "                                                    calibration_period_end='2010-09-01',\n",
    "                                                    observation_period_end='2010-12-09')\n",
    "\n",
    "summary_cal_holdout.sort_values(by='frequency_holdout', ascending=False).head()"
   ]
  },
  {
   "cell_type": "code",
   "execution_count": 25,
   "id": "f39ecfcd",
   "metadata": {
    "ExecuteTime": {
     "end_time": "2022-08-29T04:35:03.460786Z",
     "start_time": "2022-08-29T04:35:02.934629Z"
    }
   },
   "outputs": [
    {
     "data": {
      "text/plain": [
       "<AxesSubplot:title={'center':'Actual Purchases in Holdout Period vs Predicted Purchases'}, xlabel='Purchases in calibration period', ylabel='Average of Purchases in Holdout Period'>"
      ]
     },
     "execution_count": 25,
     "metadata": {},
     "output_type": "execute_result"
    },
    {
     "data": {
      "image/png": "[encoded data removed]",
      "text/plain": [
       "<Figure size 432x288 with 1 Axes>"
      ]
     },
     "metadata": {
      "needs_background": "light"
     },
     "output_type": "display_data"
    }
   ],
   "source": [
    "# Re-fit the model on the calibration period\n",
    "\n",
    "bgf.fit(summary_cal_holdout['frequency_cal'], \n",
    "        summary_cal_holdout['recency_cal'], \n",
    "        summary_cal_holdout['T_cal'])\n",
    "\n",
    "plot_calibration_purchases_vs_holdout_purchases(bgf, summary_cal_holdout)\n"
   ]
  },
  {
   "cell_type": "code",
   "execution_count": 51,
   "id": "ba4bff43",
   "metadata": {
    "ExecuteTime": {
     "end_time": "2022-08-29T05:50:00.762795Z",
     "start_time": "2022-08-29T05:49:13.709445Z"
    }
   },
   "outputs": [
    {
     "name": "stderr",
     "output_type": "stream",
     "text": [
      "/opt/anaconda3/lib/python3.7/site-packages/pandas/core/arraylike.py:364: RuntimeWarning: invalid value encountered in log\n",
      "  result = getattr(ufunc, method)(*inputs, **kwargs)\n"
     ]
    },
    {
     "data": {
      "text/plain": [
       "<AxesSubplot:title={'center':'Actual Purchases in Holdout Period vs Predicted Purchases'}, xlabel='Purchases in calibration period', ylabel='Average of Purchases in Holdout Period'>"
      ]
     },
     "execution_count": 51,
     "metadata": {},
     "output_type": "execute_result"
    },
    {
     "data": {
      "image/png": "[encoded data removed]",
      "text/plain": [
       "<Figure size 432x288 with 1 Axes>"
      ]
     },
     "metadata": {
      "needs_background": "light"
     },
     "output_type": "display_data"
    }
   ],
   "source": [
    "# Using a longer holdout period\n",
    "from lifetimes.utils import calibration_and_holdout_data\n",
    "from lifetimes.plotting import plot_calibration_purchases_vs_holdout_purchases\n",
    "\n",
    "summary_cal_holdout = calibration_and_holdout_data(df, \n",
    "                                                   'Customer ID', \n",
    "                                                   'InvoiceDate',\n",
    "                                                    calibration_period_end='2010-03-01',\n",
    "                                                    observation_period_end='2010-12-09')\n",
    "\n",
    "bgf.fit(summary_cal_holdout['frequency_cal'], \n",
    "        summary_cal_holdout['recency_cal'], \n",
    "        summary_cal_holdout['T_cal'])\n",
    "\n",
    "\n",
    "plot_calibration_purchases_vs_holdout_purchases(bgf, summary_cal_holdout)\n"
   ]
  },
  {
   "cell_type": "code",
   "execution_count": 27,
   "id": "1ad75e6f",
   "metadata": {
    "ExecuteTime": {
     "end_time": "2022-08-29T04:36:49.350305Z",
     "start_time": "2022-08-29T04:36:49.333751Z"
    }
   },
   "outputs": [
    {
     "data": {
      "text/plain": [
       "1.2341298281235369"
      ]
     },
     "execution_count": 27,
     "metadata": {},
     "output_type": "execute_result"
    }
   ],
   "source": [
    "# Get predictions for a specific customer\n",
    "\n",
    "t = 365\n",
    "individual = df_rfmt.iloc[1]\n",
    "bgf.predict(t, \n",
    "            individual['frequency'], \n",
    "            individual['recency'], \n",
    "            individual['T'])"
   ]
  },
  {
   "cell_type": "code",
   "execution_count": 53,
   "id": "391cc142",
   "metadata": {
    "ExecuteTime": {
     "end_time": "2022-08-29T05:50:43.551449Z",
     "start_time": "2022-08-29T05:50:43.498180Z"
    }
   },
   "outputs": [
    {
     "data": {
      "text/html": [
       "<div>\n",
       "<style scoped>\n",
       "    .dataframe tbody tr th:only-of-type {\n",
       "        vertical-align: middle;\n",
       "    }\n",
       "\n",
       "    .dataframe tbody tr th {\n",
       "        vertical-align: top;\n",
       "    }\n",
       "\n",
       "    .dataframe thead th {\n",
       "        text-align: right;\n",
       "    }\n",
       "</style>\n",
       "<table border=\"1\" class=\"dataframe\">\n",
       "  <thead>\n",
       "    <tr style=\"text-align: right;\">\n",
       "      <th></th>\n",
       "      <th>Invoice</th>\n",
       "      <th>StockCode</th>\n",
       "      <th>Description</th>\n",
       "      <th>Quantity</th>\n",
       "      <th>InvoiceDate</th>\n",
       "      <th>Price</th>\n",
       "      <th>Customer ID</th>\n",
       "      <th>Country</th>\n",
       "      <th>revenue</th>\n",
       "    </tr>\n",
       "  </thead>\n",
       "  <tbody>\n",
       "    <tr>\n",
       "      <th>27994</th>\n",
       "      <td>491725</td>\n",
       "      <td>TEST001</td>\n",
       "      <td>This is a test product.</td>\n",
       "      <td>10</td>\n",
       "      <td>2009-12-14 08:34:00</td>\n",
       "      <td>4.50</td>\n",
       "      <td>12346.0</td>\n",
       "      <td>United Kingdom</td>\n",
       "      <td>45.00</td>\n",
       "    </tr>\n",
       "    <tr>\n",
       "      <th>28251</th>\n",
       "      <td>491742</td>\n",
       "      <td>TEST001</td>\n",
       "      <td>This is a test product.</td>\n",
       "      <td>5</td>\n",
       "      <td>2009-12-14 11:00:00</td>\n",
       "      <td>4.50</td>\n",
       "      <td>12346.0</td>\n",
       "      <td>United Kingdom</td>\n",
       "      <td>22.50</td>\n",
       "    </tr>\n",
       "    <tr>\n",
       "      <th>28254</th>\n",
       "      <td>491744</td>\n",
       "      <td>TEST001</td>\n",
       "      <td>This is a test product.</td>\n",
       "      <td>5</td>\n",
       "      <td>2009-12-14 11:02:00</td>\n",
       "      <td>4.50</td>\n",
       "      <td>12346.0</td>\n",
       "      <td>United Kingdom</td>\n",
       "      <td>22.50</td>\n",
       "    </tr>\n",
       "    <tr>\n",
       "      <th>39398</th>\n",
       "      <td>492718</td>\n",
       "      <td>TEST001</td>\n",
       "      <td>This is a test product.</td>\n",
       "      <td>5</td>\n",
       "      <td>2009-12-18 10:47:00</td>\n",
       "      <td>4.50</td>\n",
       "      <td>12346.0</td>\n",
       "      <td>United Kingdom</td>\n",
       "      <td>22.50</td>\n",
       "    </tr>\n",
       "    <tr>\n",
       "      <th>39411</th>\n",
       "      <td>492722</td>\n",
       "      <td>TEST002</td>\n",
       "      <td>This is a test product.</td>\n",
       "      <td>1</td>\n",
       "      <td>2009-12-18 10:55:00</td>\n",
       "      <td>1.00</td>\n",
       "      <td>12346.0</td>\n",
       "      <td>United Kingdom</td>\n",
       "      <td>1.00</td>\n",
       "    </tr>\n",
       "    <tr>\n",
       "      <th>45228</th>\n",
       "      <td>493410</td>\n",
       "      <td>TEST001</td>\n",
       "      <td>This is a test product.</td>\n",
       "      <td>5</td>\n",
       "      <td>2010-01-04 09:24:00</td>\n",
       "      <td>4.50</td>\n",
       "      <td>12346.0</td>\n",
       "      <td>United Kingdom</td>\n",
       "      <td>22.50</td>\n",
       "    </tr>\n",
       "    <tr>\n",
       "      <th>45230</th>\n",
       "      <td>493412</td>\n",
       "      <td>TEST001</td>\n",
       "      <td>This is a test product.</td>\n",
       "      <td>5</td>\n",
       "      <td>2010-01-04 09:53:00</td>\n",
       "      <td>4.50</td>\n",
       "      <td>12346.0</td>\n",
       "      <td>United Kingdom</td>\n",
       "      <td>22.50</td>\n",
       "    </tr>\n",
       "    <tr>\n",
       "      <th>56117</th>\n",
       "      <td>494450</td>\n",
       "      <td>TEST001</td>\n",
       "      <td>This is a test product.</td>\n",
       "      <td>5</td>\n",
       "      <td>2010-01-14 13:50:00</td>\n",
       "      <td>4.50</td>\n",
       "      <td>12346.0</td>\n",
       "      <td>United Kingdom</td>\n",
       "      <td>22.50</td>\n",
       "    </tr>\n",
       "    <tr>\n",
       "      <th>66084</th>\n",
       "      <td>495295</td>\n",
       "      <td>TEST001</td>\n",
       "      <td>This is a test product.</td>\n",
       "      <td>5</td>\n",
       "      <td>2010-01-22 13:30:00</td>\n",
       "      <td>4.50</td>\n",
       "      <td>12346.0</td>\n",
       "      <td>United Kingdom</td>\n",
       "      <td>22.50</td>\n",
       "    </tr>\n",
       "    <tr>\n",
       "      <th>71080</th>\n",
       "      <td>C495800</td>\n",
       "      <td>ADJUST</td>\n",
       "      <td>Adjustment by john on 26/01/2010 17</td>\n",
       "      <td>-1</td>\n",
       "      <td>2010-01-26 17:27:00</td>\n",
       "      <td>103.50</td>\n",
       "      <td>12346.0</td>\n",
       "      <td>United Kingdom</td>\n",
       "      <td>-103.50</td>\n",
       "    </tr>\n",
       "    <tr>\n",
       "      <th>107800</th>\n",
       "      <td>499763</td>\n",
       "      <td>20682</td>\n",
       "      <td>RED SPOTTY CHILDS UMBRELLA</td>\n",
       "      <td>1</td>\n",
       "      <td>2010-03-02 13:08:00</td>\n",
       "      <td>3.25</td>\n",
       "      <td>12346.0</td>\n",
       "      <td>United Kingdom</td>\n",
       "      <td>3.25</td>\n",
       "    </tr>\n",
       "    <tr>\n",
       "      <th>107801</th>\n",
       "      <td>499763</td>\n",
       "      <td>20679</td>\n",
       "      <td>EDWARDIAN PARASOL RED</td>\n",
       "      <td>1</td>\n",
       "      <td>2010-03-02 13:08:00</td>\n",
       "      <td>5.95</td>\n",
       "      <td>12346.0</td>\n",
       "      <td>United Kingdom</td>\n",
       "      <td>5.95</td>\n",
       "    </tr>\n",
       "    <tr>\n",
       "      <th>107802</th>\n",
       "      <td>499763</td>\n",
       "      <td>15056N</td>\n",
       "      <td>EDWARDIAN PARASOL NATURAL</td>\n",
       "      <td>1</td>\n",
       "      <td>2010-03-02 13:08:00</td>\n",
       "      <td>5.95</td>\n",
       "      <td>12346.0</td>\n",
       "      <td>United Kingdom</td>\n",
       "      <td>5.95</td>\n",
       "    </tr>\n",
       "    <tr>\n",
       "      <th>107803</th>\n",
       "      <td>499763</td>\n",
       "      <td>15056BL</td>\n",
       "      <td>EDWARDIAN PARASOL BLACK</td>\n",
       "      <td>1</td>\n",
       "      <td>2010-03-02 13:08:00</td>\n",
       "      <td>5.95</td>\n",
       "      <td>12346.0</td>\n",
       "      <td>United Kingdom</td>\n",
       "      <td>5.95</td>\n",
       "    </tr>\n",
       "    <tr>\n",
       "      <th>107804</th>\n",
       "      <td>499763</td>\n",
       "      <td>15056P</td>\n",
       "      <td>EDWARDIAN PARASOL PINK</td>\n",
       "      <td>1</td>\n",
       "      <td>2010-03-02 13:08:00</td>\n",
       "      <td>5.95</td>\n",
       "      <td>12346.0</td>\n",
       "      <td>United Kingdom</td>\n",
       "      <td>5.95</td>\n",
       "    </tr>\n",
       "    <tr>\n",
       "      <th>253028</th>\n",
       "      <td>513774</td>\n",
       "      <td>21524</td>\n",
       "      <td>DOORMAT SPOTTY HOME SWEET HOME</td>\n",
       "      <td>1</td>\n",
       "      <td>2010-06-28 13:53:00</td>\n",
       "      <td>7.49</td>\n",
       "      <td>12346.0</td>\n",
       "      <td>United Kingdom</td>\n",
       "      <td>7.49</td>\n",
       "    </tr>\n",
       "    <tr>\n",
       "      <th>253029</th>\n",
       "      <td>513774</td>\n",
       "      <td>22692</td>\n",
       "      <td>DOORMAT WELCOME TO OUR HOME</td>\n",
       "      <td>1</td>\n",
       "      <td>2010-06-28 13:53:00</td>\n",
       "      <td>7.49</td>\n",
       "      <td>12346.0</td>\n",
       "      <td>United Kingdom</td>\n",
       "      <td>7.49</td>\n",
       "    </tr>\n",
       "    <tr>\n",
       "      <th>253030</th>\n",
       "      <td>513774</td>\n",
       "      <td>22660</td>\n",
       "      <td>DOORMAT I LOVE LONDON</td>\n",
       "      <td>1</td>\n",
       "      <td>2010-06-28 13:53:00</td>\n",
       "      <td>7.49</td>\n",
       "      <td>12346.0</td>\n",
       "      <td>United Kingdom</td>\n",
       "      <td>7.49</td>\n",
       "    </tr>\n",
       "    <tr>\n",
       "      <th>253031</th>\n",
       "      <td>513774</td>\n",
       "      <td>22687</td>\n",
       "      <td>DOORMAT CHRISTMAS VILLAGE</td>\n",
       "      <td>1</td>\n",
       "      <td>2010-06-28 13:53:00</td>\n",
       "      <td>7.49</td>\n",
       "      <td>12346.0</td>\n",
       "      <td>United Kingdom</td>\n",
       "      <td>7.49</td>\n",
       "    </tr>\n",
       "    <tr>\n",
       "      <th>253032</th>\n",
       "      <td>513774</td>\n",
       "      <td>48173C</td>\n",
       "      <td>DOORMAT BLACK FLOCK</td>\n",
       "      <td>1</td>\n",
       "      <td>2010-06-28 13:53:00</td>\n",
       "      <td>7.49</td>\n",
       "      <td>12346.0</td>\n",
       "      <td>United Kingdom</td>\n",
       "      <td>7.49</td>\n",
       "    </tr>\n",
       "    <tr>\n",
       "      <th>253033</th>\n",
       "      <td>513774</td>\n",
       "      <td>22691</td>\n",
       "      <td>DOORMAT WELCOME SUNRISE</td>\n",
       "      <td>1</td>\n",
       "      <td>2010-06-28 13:53:00</td>\n",
       "      <td>7.49</td>\n",
       "      <td>12346.0</td>\n",
       "      <td>United Kingdom</td>\n",
       "      <td>7.49</td>\n",
       "    </tr>\n",
       "    <tr>\n",
       "      <th>253034</th>\n",
       "      <td>513774</td>\n",
       "      <td>48111</td>\n",
       "      <td>DOORMAT 3 SMILEY CATS</td>\n",
       "      <td>1</td>\n",
       "      <td>2010-06-28 13:53:00</td>\n",
       "      <td>7.49</td>\n",
       "      <td>12346.0</td>\n",
       "      <td>United Kingdom</td>\n",
       "      <td>7.49</td>\n",
       "    </tr>\n",
       "    <tr>\n",
       "      <th>253035</th>\n",
       "      <td>513774</td>\n",
       "      <td>22690</td>\n",
       "      <td>DOORMAT HOME SWEET HOME BLUE</td>\n",
       "      <td>1</td>\n",
       "      <td>2010-06-28 13:53:00</td>\n",
       "      <td>7.49</td>\n",
       "      <td>12346.0</td>\n",
       "      <td>United Kingdom</td>\n",
       "      <td>7.49</td>\n",
       "    </tr>\n",
       "    <tr>\n",
       "      <th>253036</th>\n",
       "      <td>513774</td>\n",
       "      <td>21523</td>\n",
       "      <td>DOORMAT FANCY FONT HOME SWEET HOME</td>\n",
       "      <td>1</td>\n",
       "      <td>2010-06-28 13:53:00</td>\n",
       "      <td>7.49</td>\n",
       "      <td>12346.0</td>\n",
       "      <td>United Kingdom</td>\n",
       "      <td>7.49</td>\n",
       "    </tr>\n",
       "    <tr>\n",
       "      <th>253037</th>\n",
       "      <td>513774</td>\n",
       "      <td>48138</td>\n",
       "      <td>DOORMAT UNION FLAG</td>\n",
       "      <td>1</td>\n",
       "      <td>2010-06-28 13:53:00</td>\n",
       "      <td>7.49</td>\n",
       "      <td>12346.0</td>\n",
       "      <td>United Kingdom</td>\n",
       "      <td>7.49</td>\n",
       "    </tr>\n",
       "    <tr>\n",
       "      <th>253038</th>\n",
       "      <td>513774</td>\n",
       "      <td>22689</td>\n",
       "      <td>DOORMAT MERRY CHRISTMAS RED</td>\n",
       "      <td>1</td>\n",
       "      <td>2010-06-28 13:53:00</td>\n",
       "      <td>7.49</td>\n",
       "      <td>12346.0</td>\n",
       "      <td>United Kingdom</td>\n",
       "      <td>7.49</td>\n",
       "    </tr>\n",
       "    <tr>\n",
       "      <th>253039</th>\n",
       "      <td>513774</td>\n",
       "      <td>22365</td>\n",
       "      <td>DOORMAT RESPECTABLE HOUSE</td>\n",
       "      <td>1</td>\n",
       "      <td>2010-06-28 13:53:00</td>\n",
       "      <td>7.49</td>\n",
       "      <td>12346.0</td>\n",
       "      <td>United Kingdom</td>\n",
       "      <td>7.49</td>\n",
       "    </tr>\n",
       "    <tr>\n",
       "      <th>253040</th>\n",
       "      <td>513774</td>\n",
       "      <td>48185</td>\n",
       "      <td>DOORMAT FAIRY CAKE</td>\n",
       "      <td>1</td>\n",
       "      <td>2010-06-28 13:53:00</td>\n",
       "      <td>7.49</td>\n",
       "      <td>12346.0</td>\n",
       "      <td>United Kingdom</td>\n",
       "      <td>7.49</td>\n",
       "    </tr>\n",
       "    <tr>\n",
       "      <th>253041</th>\n",
       "      <td>513774</td>\n",
       "      <td>22688</td>\n",
       "      <td>DOORMAT PEACE ON EARTH BLUE</td>\n",
       "      <td>1</td>\n",
       "      <td>2010-06-28 13:53:00</td>\n",
       "      <td>7.49</td>\n",
       "      <td>12346.0</td>\n",
       "      <td>United Kingdom</td>\n",
       "      <td>7.49</td>\n",
       "    </tr>\n",
       "    <tr>\n",
       "      <th>253042</th>\n",
       "      <td>513774</td>\n",
       "      <td>48188</td>\n",
       "      <td>DOORMAT WELCOME PUPPIES</td>\n",
       "      <td>1</td>\n",
       "      <td>2010-06-28 13:53:00</td>\n",
       "      <td>7.49</td>\n",
       "      <td>12346.0</td>\n",
       "      <td>United Kingdom</td>\n",
       "      <td>7.49</td>\n",
       "    </tr>\n",
       "    <tr>\n",
       "      <th>253043</th>\n",
       "      <td>513774</td>\n",
       "      <td>48187</td>\n",
       "      <td>DOORMAT NEW ENGLAND</td>\n",
       "      <td>1</td>\n",
       "      <td>2010-06-28 13:53:00</td>\n",
       "      <td>7.49</td>\n",
       "      <td>12346.0</td>\n",
       "      <td>United Kingdom</td>\n",
       "      <td>7.49</td>\n",
       "    </tr>\n",
       "    <tr>\n",
       "      <th>253044</th>\n",
       "      <td>513774</td>\n",
       "      <td>22366</td>\n",
       "      <td>DOORMAT AIRMAIL</td>\n",
       "      <td>1</td>\n",
       "      <td>2010-06-28 13:53:00</td>\n",
       "      <td>7.49</td>\n",
       "      <td>12346.0</td>\n",
       "      <td>United Kingdom</td>\n",
       "      <td>7.49</td>\n",
       "    </tr>\n",
       "    <tr>\n",
       "      <th>253045</th>\n",
       "      <td>513774</td>\n",
       "      <td>20685</td>\n",
       "      <td>DOORMAT RED SPOT</td>\n",
       "      <td>1</td>\n",
       "      <td>2010-06-28 13:53:00</td>\n",
       "      <td>7.49</td>\n",
       "      <td>12346.0</td>\n",
       "      <td>United Kingdom</td>\n",
       "      <td>7.49</td>\n",
       "    </tr>\n",
       "    <tr>\n",
       "      <th>253046</th>\n",
       "      <td>513774</td>\n",
       "      <td>21955</td>\n",
       "      <td>DOORMAT UNION JACK GUNS AND ROSES</td>\n",
       "      <td>1</td>\n",
       "      <td>2010-06-28 13:53:00</td>\n",
       "      <td>7.49</td>\n",
       "      <td>12346.0</td>\n",
       "      <td>United Kingdom</td>\n",
       "      <td>7.49</td>\n",
       "    </tr>\n",
       "    <tr>\n",
       "      <th>255586</th>\n",
       "      <td>C514024</td>\n",
       "      <td>M</td>\n",
       "      <td>Manual</td>\n",
       "      <td>-1</td>\n",
       "      <td>2010-06-30 11:22:00</td>\n",
       "      <td>5.18</td>\n",
       "      <td>12346.0</td>\n",
       "      <td>United Kingdom</td>\n",
       "      <td>-5.18</td>\n",
       "    </tr>\n",
       "    <tr>\n",
       "      <th>255587</th>\n",
       "      <td>C514024</td>\n",
       "      <td>M</td>\n",
       "      <td>Manual</td>\n",
       "      <td>-1</td>\n",
       "      <td>2010-06-30 11:22:00</td>\n",
       "      <td>12.94</td>\n",
       "      <td>12346.0</td>\n",
       "      <td>United Kingdom</td>\n",
       "      <td>-12.94</td>\n",
       "    </tr>\n",
       "    <tr>\n",
       "      <th>255588</th>\n",
       "      <td>C514024</td>\n",
       "      <td>M</td>\n",
       "      <td>Manual</td>\n",
       "      <td>-1</td>\n",
       "      <td>2010-06-30 11:22:00</td>\n",
       "      <td>4.66</td>\n",
       "      <td>12346.0</td>\n",
       "      <td>United Kingdom</td>\n",
       "      <td>-4.66</td>\n",
       "    </tr>\n",
       "    <tr>\n",
       "      <th>255589</th>\n",
       "      <td>C514024</td>\n",
       "      <td>M</td>\n",
       "      <td>Manual</td>\n",
       "      <td>-1</td>\n",
       "      <td>2010-06-30 11:22:00</td>\n",
       "      <td>12.94</td>\n",
       "      <td>12346.0</td>\n",
       "      <td>United Kingdom</td>\n",
       "      <td>-12.94</td>\n",
       "    </tr>\n",
       "    <tr>\n",
       "      <th>255590</th>\n",
       "      <td>C514024</td>\n",
       "      <td>M</td>\n",
       "      <td>Manual</td>\n",
       "      <td>-1</td>\n",
       "      <td>2010-06-30 11:22:00</td>\n",
       "      <td>25.88</td>\n",
       "      <td>12346.0</td>\n",
       "      <td>United Kingdom</td>\n",
       "      <td>-25.88</td>\n",
       "    </tr>\n",
       "    <tr>\n",
       "      <th>255591</th>\n",
       "      <td>C514024</td>\n",
       "      <td>M</td>\n",
       "      <td>Manual</td>\n",
       "      <td>-3</td>\n",
       "      <td>2010-06-30 11:22:00</td>\n",
       "      <td>12.94</td>\n",
       "      <td>12346.0</td>\n",
       "      <td>United Kingdom</td>\n",
       "      <td>-38.82</td>\n",
       "    </tr>\n",
       "    <tr>\n",
       "      <th>255592</th>\n",
       "      <td>C514024</td>\n",
       "      <td>M</td>\n",
       "      <td>Manual</td>\n",
       "      <td>-1</td>\n",
       "      <td>2010-06-30 11:22:00</td>\n",
       "      <td>1.15</td>\n",
       "      <td>12346.0</td>\n",
       "      <td>United Kingdom</td>\n",
       "      <td>-1.15</td>\n",
       "    </tr>\n",
       "    <tr>\n",
       "      <th>255593</th>\n",
       "      <td>C514024</td>\n",
       "      <td>M</td>\n",
       "      <td>Manual</td>\n",
       "      <td>-4</td>\n",
       "      <td>2010-06-30 11:22:00</td>\n",
       "      <td>13.22</td>\n",
       "      <td>12346.0</td>\n",
       "      <td>United Kingdom</td>\n",
       "      <td>-52.88</td>\n",
       "    </tr>\n",
       "    <tr>\n",
       "      <th>255594</th>\n",
       "      <td>C514024</td>\n",
       "      <td>M</td>\n",
       "      <td>Manual</td>\n",
       "      <td>-1</td>\n",
       "      <td>2010-06-30 11:22:00</td>\n",
       "      <td>31.78</td>\n",
       "      <td>12346.0</td>\n",
       "      <td>United Kingdom</td>\n",
       "      <td>-31.78</td>\n",
       "    </tr>\n",
       "    <tr>\n",
       "      <th>255595</th>\n",
       "      <td>C514024</td>\n",
       "      <td>M</td>\n",
       "      <td>Manual</td>\n",
       "      <td>-1</td>\n",
       "      <td>2010-06-30 11:22:00</td>\n",
       "      <td>142.31</td>\n",
       "      <td>12346.0</td>\n",
       "      <td>United Kingdom</td>\n",
       "      <td>-142.31</td>\n",
       "    </tr>\n",
       "    <tr>\n",
       "      <th>370048</th>\n",
       "      <td>C525099</td>\n",
       "      <td>D</td>\n",
       "      <td>Discount</td>\n",
       "      <td>-1</td>\n",
       "      <td>2010-10-04 09:54:00</td>\n",
       "      <td>1.00</td>\n",
       "      <td>12346.0</td>\n",
       "      <td>United Kingdom</td>\n",
       "      <td>-1.00</td>\n",
       "    </tr>\n",
       "    <tr>\n",
       "      <th>371779</th>\n",
       "      <td>C525274</td>\n",
       "      <td>TEST001</td>\n",
       "      <td>This is a test product.</td>\n",
       "      <td>-1</td>\n",
       "      <td>2010-10-04 16:33:00</td>\n",
       "      <td>4.50</td>\n",
       "      <td>12346.0</td>\n",
       "      <td>United Kingdom</td>\n",
       "      <td>-4.50</td>\n",
       "    </tr>\n",
       "  </tbody>\n",
       "</table>\n",
       "</div>"
      ],
      "text/plain": [
       "        Invoice StockCode                          Description  Quantity  \\\n",
       "27994    491725   TEST001              This is a test product.        10   \n",
       "28251    491742   TEST001              This is a test product.         5   \n",
       "28254    491744   TEST001              This is a test product.         5   \n",
       "39398    492718   TEST001              This is a test product.         5   \n",
       "39411    492722   TEST002              This is a test product.         1   \n",
       "45228    493410   TEST001              This is a test product.         5   \n",
       "45230    493412   TEST001              This is a test product.         5   \n",
       "56117    494450   TEST001              This is a test product.         5   \n",
       "66084    495295   TEST001              This is a test product.         5   \n",
       "71080   C495800    ADJUST  Adjustment by john on 26/01/2010 17        -1   \n",
       "107800   499763     20682           RED SPOTTY CHILDS UMBRELLA         1   \n",
       "107801   499763     20679                EDWARDIAN PARASOL RED         1   \n",
       "107802   499763    15056N            EDWARDIAN PARASOL NATURAL         1   \n",
       "107803   499763   15056BL              EDWARDIAN PARASOL BLACK         1   \n",
       "107804   499763    15056P               EDWARDIAN PARASOL PINK         1   \n",
       "253028   513774     21524       DOORMAT SPOTTY HOME SWEET HOME         1   \n",
       "253029   513774     22692          DOORMAT WELCOME TO OUR HOME         1   \n",
       "253030   513774     22660                DOORMAT I LOVE LONDON         1   \n",
       "253031   513774     22687            DOORMAT CHRISTMAS VILLAGE         1   \n",
       "253032   513774    48173C                 DOORMAT BLACK FLOCK          1   \n",
       "253033   513774     22691              DOORMAT WELCOME SUNRISE         1   \n",
       "253034   513774     48111                DOORMAT 3 SMILEY CATS         1   \n",
       "253035   513774     22690        DOORMAT HOME SWEET HOME BLUE          1   \n",
       "253036   513774     21523   DOORMAT FANCY FONT HOME SWEET HOME         1   \n",
       "253037   513774     48138                   DOORMAT UNION FLAG         1   \n",
       "253038   513774     22689         DOORMAT MERRY CHRISTMAS RED          1   \n",
       "253039   513774     22365            DOORMAT RESPECTABLE HOUSE         1   \n",
       "253040   513774     48185                   DOORMAT FAIRY CAKE         1   \n",
       "253041   513774     22688          DOORMAT PEACE ON EARTH BLUE         1   \n",
       "253042   513774     48188              DOORMAT WELCOME PUPPIES         1   \n",
       "253043   513774     48187                  DOORMAT NEW ENGLAND         1   \n",
       "253044   513774     22366                     DOORMAT AIRMAIL          1   \n",
       "253045   513774     20685                     DOORMAT RED SPOT         1   \n",
       "253046   513774     21955    DOORMAT UNION JACK GUNS AND ROSES         1   \n",
       "255586  C514024         M                               Manual        -1   \n",
       "255587  C514024         M                               Manual        -1   \n",
       "255588  C514024         M                               Manual        -1   \n",
       "255589  C514024         M                               Manual        -1   \n",
       "255590  C514024         M                               Manual        -1   \n",
       "255591  C514024         M                               Manual        -3   \n",
       "255592  C514024         M                               Manual        -1   \n",
       "255593  C514024         M                               Manual        -4   \n",
       "255594  C514024         M                               Manual        -1   \n",
       "255595  C514024         M                               Manual        -1   \n",
       "370048  C525099         D                             Discount        -1   \n",
       "371779  C525274   TEST001              This is a test product.        -1   \n",
       "\n",
       "               InvoiceDate   Price  Customer ID         Country  revenue  \n",
       "27994  2009-12-14 08:34:00    4.50      12346.0  United Kingdom    45.00  \n",
       "28251  2009-12-14 11:00:00    4.50      12346.0  United Kingdom    22.50  \n",
       "28254  2009-12-14 11:02:00    4.50      12346.0  United Kingdom    22.50  \n",
       "39398  2009-12-18 10:47:00    4.50      12346.0  United Kingdom    22.50  \n",
       "39411  2009-12-18 10:55:00    1.00      12346.0  United Kingdom     1.00  \n",
       "45228  2010-01-04 09:24:00    4.50      12346.0  United Kingdom    22.50  \n",
       "45230  2010-01-04 09:53:00    4.50      12346.0  United Kingdom    22.50  \n",
       "56117  2010-01-14 13:50:00    4.50      12346.0  United Kingdom    22.50  \n",
       "66084  2010-01-22 13:30:00    4.50      12346.0  United Kingdom    22.50  \n",
       "71080  2010-01-26 17:27:00  103.50      12346.0  United Kingdom  -103.50  \n",
       "107800 2010-03-02 13:08:00    3.25      12346.0  United Kingdom     3.25  \n",
       "107801 2010-03-02 13:08:00    5.95      12346.0  United Kingdom     5.95  \n",
       "107802 2010-03-02 13:08:00    5.95      12346.0  United Kingdom     5.95  \n",
       "107803 2010-03-02 13:08:00    5.95      12346.0  United Kingdom     5.95  \n",
       "107804 2010-03-02 13:08:00    5.95      12346.0  United Kingdom     5.95  \n",
       "253028 2010-06-28 13:53:00    7.49      12346.0  United Kingdom     7.49  \n",
       "253029 2010-06-28 13:53:00    7.49      12346.0  United Kingdom     7.49  \n",
       "253030 2010-06-28 13:53:00    7.49      12346.0  United Kingdom     7.49  \n",
       "253031 2010-06-28 13:53:00    7.49      12346.0  United Kingdom     7.49  \n",
       "253032 2010-06-28 13:53:00    7.49      12346.0  United Kingdom     7.49  \n",
       "253033 2010-06-28 13:53:00    7.49      12346.0  United Kingdom     7.49  \n",
       "253034 2010-06-28 13:53:00    7.49      12346.0  United Kingdom     7.49  \n",
       "253035 2010-06-28 13:53:00    7.49      12346.0  United Kingdom     7.49  \n",
       "253036 2010-06-28 13:53:00    7.49      12346.0  United Kingdom     7.49  \n",
       "253037 2010-06-28 13:53:00    7.49      12346.0  United Kingdom     7.49  \n",
       "253038 2010-06-28 13:53:00    7.49      12346.0  United Kingdom     7.49  \n",
       "253039 2010-06-28 13:53:00    7.49      12346.0  United Kingdom     7.49  \n",
       "253040 2010-06-28 13:53:00    7.49      12346.0  United Kingdom     7.49  \n",
       "253041 2010-06-28 13:53:00    7.49      12346.0  United Kingdom     7.49  \n",
       "253042 2010-06-28 13:53:00    7.49      12346.0  United Kingdom     7.49  \n",
       "253043 2010-06-28 13:53:00    7.49      12346.0  United Kingdom     7.49  \n",
       "253044 2010-06-28 13:53:00    7.49      12346.0  United Kingdom     7.49  \n",
       "253045 2010-06-28 13:53:00    7.49      12346.0  United Kingdom     7.49  \n",
       "253046 2010-06-28 13:53:00    7.49      12346.0  United Kingdom     7.49  \n",
       "255586 2010-06-30 11:22:00    5.18      12346.0  United Kingdom    -5.18  \n",
       "255587 2010-06-30 11:22:00   12.94      12346.0  United Kingdom   -12.94  \n",
       "255588 2010-06-30 11:22:00    4.66      12346.0  United Kingdom    -4.66  \n",
       "255589 2010-06-30 11:22:00   12.94      12346.0  United Kingdom   -12.94  \n",
       "255590 2010-06-30 11:22:00   25.88      12346.0  United Kingdom   -25.88  \n",
       "255591 2010-06-30 11:22:00   12.94      12346.0  United Kingdom   -38.82  \n",
       "255592 2010-06-30 11:22:00    1.15      12346.0  United Kingdom    -1.15  \n",
       "255593 2010-06-30 11:22:00   13.22      12346.0  United Kingdom   -52.88  \n",
       "255594 2010-06-30 11:22:00   31.78      12346.0  United Kingdom   -31.78  \n",
       "255595 2010-06-30 11:22:00  142.31      12346.0  United Kingdom  -142.31  \n",
       "370048 2010-10-04 09:54:00    1.00      12346.0  United Kingdom    -1.00  \n",
       "371779 2010-10-04 16:33:00    4.50      12346.0  United Kingdom    -4.50  "
      ]
     },
     "execution_count": 53,
     "metadata": {},
     "output_type": "execute_result"
    }
   ],
   "source": [
    "# Plot customer probability history\n",
    "\n",
    "example_customer_orders = df.loc[df['Customer ID'] == 12346]\n",
    "example_customer_orders"
   ]
  },
  {
   "cell_type": "code",
   "execution_count": 56,
   "id": "dae5027c",
   "metadata": {
    "ExecuteTime": {
     "end_time": "2022-08-29T05:53:37.000091Z",
     "start_time": "2022-08-29T05:53:36.630292Z"
    }
   },
   "outputs": [
    {
     "data": {
      "text/plain": [
       "<AxesSubplot:title={'center':'History of P_alive'}, ylabel='P_alive'>"
      ]
     },
     "execution_count": 56,
     "metadata": {},
     "output_type": "execute_result"
    },
    {
     "data": {
      "image/png": "[encoded data removed]",
      "text/plain": [
       "<Figure size 1120x480 with 1 Axes>"
      ]
     },
     "metadata": {},
     "output_type": "display_data"
    }
   ],
   "source": [
    "figure(num=None, figsize=(14, 6), dpi=80, facecolor='w', edgecolor='k')\n",
    "\n",
    "days_since_birth = 360\n",
    "plot_history_alive(bgf, days_since_birth, example_customer_orders, 'InvoiceDate')"
   ]
  },
  {
   "cell_type": "code",
   "execution_count": 63,
   "id": "4a040b88",
   "metadata": {
    "ExecuteTime": {
     "end_time": "2022-08-29T05:55:47.314690Z",
     "start_time": "2022-08-29T05:55:46.954397Z"
    }
   },
   "outputs": [
    {
     "data": {
      "text/plain": [
       "<AxesSubplot:title={'center':'History of P_alive'}, ylabel='P_alive'>"
      ]
     },
     "execution_count": 63,
     "metadata": {},
     "output_type": "execute_result"
    },
    {
     "data": {
      "image/png": "[encoded data removed]",
      "text/plain": [
       "<Figure size 1120x480 with 1 Axes>"
      ]
     },
     "metadata": {},
     "output_type": "display_data"
    }
   ],
   "source": [
    "figure(num=None, figsize=(14, 6), dpi=80, facecolor='w', edgecolor='k')\n",
    "\n",
    "days_since_birth = 500\n",
    "plot_history_alive(bgf, days_since_birth, example_customer_orders, 'InvoiceDate')"
   ]
  },
  {
   "cell_type": "markdown",
   "id": "f2560adb",
   "metadata": {},
   "source": [
    "# Gamma-Gamma Model on the monetary value"
   ]
  },
  {
   "cell_type": "code",
   "execution_count": 36,
   "id": "9104bd69",
   "metadata": {
    "ExecuteTime": {
     "end_time": "2022-08-29T04:40:13.595031Z",
     "start_time": "2022-08-29T04:40:13.573058Z"
    }
   },
   "outputs": [
    {
     "data": {
      "text/html": [
       "<div>\n",
       "<style scoped>\n",
       "    .dataframe tbody tr th:only-of-type {\n",
       "        vertical-align: middle;\n",
       "    }\n",
       "\n",
       "    .dataframe tbody tr th {\n",
       "        vertical-align: top;\n",
       "    }\n",
       "\n",
       "    .dataframe thead th {\n",
       "        text-align: right;\n",
       "    }\n",
       "</style>\n",
       "<table border=\"1\" class=\"dataframe\">\n",
       "  <thead>\n",
       "    <tr style=\"text-align: right;\">\n",
       "      <th></th>\n",
       "      <th>frequency</th>\n",
       "      <th>recency</th>\n",
       "      <th>T</th>\n",
       "      <th>monetary_value</th>\n",
       "      <th>predicted_purchases</th>\n",
       "    </tr>\n",
       "    <tr>\n",
       "      <th>Customer ID</th>\n",
       "      <th></th>\n",
       "      <th></th>\n",
       "      <th></th>\n",
       "      <th></th>\n",
       "      <th></th>\n",
       "    </tr>\n",
       "  </thead>\n",
       "  <tbody>\n",
       "    <tr>\n",
       "      <th>18102.0</th>\n",
       "      <td>45.0</td>\n",
       "      <td>373.0</td>\n",
       "      <td>373.0</td>\n",
       "      <td>7544.233111</td>\n",
       "      <td>9.570152</td>\n",
       "    </tr>\n",
       "    <tr>\n",
       "      <th>13902.0</th>\n",
       "      <td>5.0</td>\n",
       "      <td>99.0</td>\n",
       "      <td>366.0</td>\n",
       "      <td>6085.692000</td>\n",
       "      <td>0.363688</td>\n",
       "    </tr>\n",
       "    <tr>\n",
       "      <th>14646.0</th>\n",
       "      <td>49.0</td>\n",
       "      <td>363.0</td>\n",
       "      <td>372.0</td>\n",
       "      <td>4860.041020</td>\n",
       "      <td>10.413831</td>\n",
       "    </tr>\n",
       "    <tr>\n",
       "      <th>17940.0</th>\n",
       "      <td>5.0</td>\n",
       "      <td>291.0</td>\n",
       "      <td>371.0</td>\n",
       "      <td>4119.288000</td>\n",
       "      <td>1.202041</td>\n",
       "    </tr>\n",
       "    <tr>\n",
       "      <th>14091.0</th>\n",
       "      <td>1.0</td>\n",
       "      <td>44.0</td>\n",
       "      <td>333.0</td>\n",
       "      <td>4010.080000</td>\n",
       "      <td>0.338990</td>\n",
       "    </tr>\n",
       "  </tbody>\n",
       "</table>\n",
       "</div>"
      ],
      "text/plain": [
       "             frequency  recency      T  monetary_value  predicted_purchases\n",
       "Customer ID                                                                \n",
       "18102.0           45.0    373.0  373.0     7544.233111             9.570152\n",
       "13902.0            5.0     99.0  366.0     6085.692000             0.363688\n",
       "14646.0           49.0    363.0  372.0     4860.041020            10.413831\n",
       "17940.0            5.0    291.0  371.0     4119.288000             1.202041\n",
       "14091.0            1.0     44.0  333.0     4010.080000             0.338990"
      ]
     },
     "execution_count": 36,
     "metadata": {},
     "output_type": "execute_result"
    }
   ],
   "source": [
    "# Predicting customer lifetime value\n",
    "\n",
    "returning_customers = df_rfmt[ (df_rfmt['frequency'] > 0) & (df_rfmt['monetary_value'] > 0)]\n",
    "returning_customers.sort_values(by='monetary_value', ascending=False).head()"
   ]
  },
  {
   "cell_type": "code",
   "execution_count": 37,
   "id": "08b12bcd",
   "metadata": {
    "ExecuteTime": {
     "end_time": "2022-08-29T04:40:16.385421Z",
     "start_time": "2022-08-29T04:40:16.367408Z"
    }
   },
   "outputs": [
    {
     "data": {
      "text/html": [
       "<div>\n",
       "<style scoped>\n",
       "    .dataframe tbody tr th:only-of-type {\n",
       "        vertical-align: middle;\n",
       "    }\n",
       "\n",
       "    .dataframe tbody tr th {\n",
       "        vertical-align: top;\n",
       "    }\n",
       "\n",
       "    .dataframe thead th {\n",
       "        text-align: right;\n",
       "    }\n",
       "</style>\n",
       "<table border=\"1\" class=\"dataframe\">\n",
       "  <thead>\n",
       "    <tr style=\"text-align: right;\">\n",
       "      <th></th>\n",
       "      <th>monetary_value</th>\n",
       "      <th>frequency</th>\n",
       "    </tr>\n",
       "  </thead>\n",
       "  <tbody>\n",
       "    <tr>\n",
       "      <th>monetary_value</th>\n",
       "      <td>1.00000</td>\n",
       "      <td>0.17365</td>\n",
       "    </tr>\n",
       "    <tr>\n",
       "      <th>frequency</th>\n",
       "      <td>0.17365</td>\n",
       "      <td>1.00000</td>\n",
       "    </tr>\n",
       "  </tbody>\n",
       "</table>\n",
       "</div>"
      ],
      "text/plain": [
       "                monetary_value  frequency\n",
       "monetary_value         1.00000    0.17365\n",
       "frequency              0.17365    1.00000"
      ]
     },
     "execution_count": 37,
     "metadata": {},
     "output_type": "execute_result"
    }
   ],
   "source": [
    "returning_customers[['monetary_value', 'frequency']].corr()\n"
   ]
  },
  {
   "cell_type": "code",
   "execution_count": 38,
   "id": "bfb53b52",
   "metadata": {
    "ExecuteTime": {
     "end_time": "2022-08-29T04:40:19.516416Z",
     "start_time": "2022-08-29T04:40:19.387066Z"
    }
   },
   "outputs": [
    {
     "data": {
      "text/plain": [
       "<lifetimes.GammaGammaFitter: fitted with 2819 subjects, p: 1.53, q: 3.67, v: 601.28>"
      ]
     },
     "execution_count": 38,
     "metadata": {},
     "output_type": "execute_result"
    }
   ],
   "source": [
    "# Fit the Gamma-Gamma model\n",
    "\n",
    "ggf = GammaGammaFitter(penalizer_coef = 0)\n",
    "ggf.fit(returning_customers['frequency'],\n",
    "        returning_customers['monetary_value'])"
   ]
  },
  {
   "cell_type": "code",
   "execution_count": 39,
   "id": "8e2243c7",
   "metadata": {
    "ExecuteTime": {
     "end_time": "2022-08-29T04:40:22.613947Z",
     "start_time": "2022-08-29T04:40:22.602934Z"
    }
   },
   "outputs": [],
   "source": [
    "# Predict average order value\n",
    "\n",
    "predicted_monetary = ggf.conditional_expected_average_profit(\n",
    "        returning_customers['frequency'],\n",
    "        returning_customers['monetary_value'])\n"
   ]
  },
  {
   "cell_type": "code",
   "execution_count": 40,
   "id": "bbdfe0af",
   "metadata": {
    "ExecuteTime": {
     "end_time": "2022-08-29T04:40:24.708384Z",
     "start_time": "2022-08-29T04:40:24.701539Z"
    }
   },
   "outputs": [],
   "source": [
    "aov_df = pd.DataFrame(predicted_monetary,columns = ['aov'])\n",
    "aov_df = aov_df.sort_values(by='aov', ascending=False)"
   ]
  },
  {
   "cell_type": "code",
   "execution_count": 41,
   "id": "7d0634d8",
   "metadata": {
    "ExecuteTime": {
     "end_time": "2022-08-29T04:40:32.263704Z",
     "start_time": "2022-08-29T04:40:31.940857Z"
    }
   },
   "outputs": [
    {
     "data": {
      "image/png": "[encoded data removed]",
      "text/plain": [
       "<Figure size 432x288 with 1 Axes>"
      ]
     },
     "metadata": {
      "needs_background": "light"
     },
     "output_type": "display_data"
    }
   ],
   "source": [
    "sns.distplot(aov_df['aov'])\n",
    "plt.show()"
   ]
  },
  {
   "cell_type": "code",
   "execution_count": 42,
   "id": "22d08c1b",
   "metadata": {
    "ExecuteTime": {
     "end_time": "2022-08-29T04:40:36.530398Z",
     "start_time": "2022-08-29T04:40:36.517992Z"
    }
   },
   "outputs": [],
   "source": [
    "# Segment customers by their AOV\n",
    "\n",
    "aov_df['aov_bin'] = pd.qcut(aov_df['aov'], q=5, labels=[1, 2, 3, 4, 5])\n",
    "aov_df = aov_df.reset_index()"
   ]
  },
  {
   "cell_type": "code",
   "execution_count": 43,
   "id": "6e268d7c",
   "metadata": {
    "ExecuteTime": {
     "end_time": "2022-08-29T04:41:05.574142Z",
     "start_time": "2022-08-29T04:41:05.532368Z"
    }
   },
   "outputs": [
    {
     "data": {
      "text/html": [
       "<div>\n",
       "<style scoped>\n",
       "    .dataframe tbody tr th:only-of-type {\n",
       "        vertical-align: middle;\n",
       "    }\n",
       "\n",
       "    .dataframe tbody tr th {\n",
       "        vertical-align: top;\n",
       "    }\n",
       "\n",
       "    .dataframe thead th {\n",
       "        text-align: right;\n",
       "    }\n",
       "</style>\n",
       "<table border=\"1\" class=\"dataframe\">\n",
       "  <thead>\n",
       "    <tr style=\"text-align: right;\">\n",
       "      <th></th>\n",
       "      <th>count</th>\n",
       "      <th>min_aov</th>\n",
       "      <th>max_aov</th>\n",
       "      <th>std_aov</th>\n",
       "      <th>aov</th>\n",
       "    </tr>\n",
       "    <tr>\n",
       "      <th>aov_bin</th>\n",
       "      <th></th>\n",
       "      <th></th>\n",
       "      <th></th>\n",
       "      <th></th>\n",
       "      <th></th>\n",
       "    </tr>\n",
       "  </thead>\n",
       "  <tbody>\n",
       "    <tr>\n",
       "      <th>1</th>\n",
       "      <td>564</td>\n",
       "      <td>44.095491</td>\n",
       "      <td>227.683168</td>\n",
       "      <td>29.984542</td>\n",
       "      <td>188.212689</td>\n",
       "    </tr>\n",
       "    <tr>\n",
       "      <th>2</th>\n",
       "      <td>564</td>\n",
       "      <td>227.769321</td>\n",
       "      <td>269.735997</td>\n",
       "      <td>11.768985</td>\n",
       "      <td>249.254377</td>\n",
       "    </tr>\n",
       "    <tr>\n",
       "      <th>3</th>\n",
       "      <td>563</td>\n",
       "      <td>269.781852</td>\n",
       "      <td>320.673328</td>\n",
       "      <td>14.897779</td>\n",
       "      <td>292.605533</td>\n",
       "    </tr>\n",
       "    <tr>\n",
       "      <th>4</th>\n",
       "      <td>564</td>\n",
       "      <td>320.704856</td>\n",
       "      <td>402.856464</td>\n",
       "      <td>24.131793</td>\n",
       "      <td>354.702200</td>\n",
       "    </tr>\n",
       "    <tr>\n",
       "      <th>5</th>\n",
       "      <td>564</td>\n",
       "      <td>402.925618</td>\n",
       "      <td>7275.082241</td>\n",
       "      <td>503.767844</td>\n",
       "      <td>657.127407</td>\n",
       "    </tr>\n",
       "  </tbody>\n",
       "</table>\n",
       "</div>"
      ],
      "text/plain": [
       "         count     min_aov      max_aov     std_aov         aov\n",
       "aov_bin                                                        \n",
       "1          564   44.095491   227.683168   29.984542  188.212689\n",
       "2          564  227.769321   269.735997   11.768985  249.254377\n",
       "3          563  269.781852   320.673328   14.897779  292.605533\n",
       "4          564  320.704856   402.856464   24.131793  354.702200\n",
       "5          564  402.925618  7275.082241  503.767844  657.127407"
      ]
     },
     "execution_count": 43,
     "metadata": {},
     "output_type": "execute_result"
    }
   ],
   "source": [
    "aov_df.groupby('aov_bin').agg(count=('Customer ID', 'count'),\n",
    "                              min_aov=('aov', min),\n",
    "                              max_aov=('aov', max),\n",
    "                              std_aov=('aov', 'std'),    \n",
    "                              aov=('aov', 'mean')).sort_values(by='aov')"
   ]
  },
  {
   "cell_type": "code",
   "execution_count": 50,
   "id": "04c1955e",
   "metadata": {
    "ExecuteTime": {
     "end_time": "2022-08-29T05:45:40.084771Z",
     "start_time": "2022-08-29T05:45:37.922685Z"
    }
   },
   "outputs": [
    {
     "data": {
      "image/png": "[encoded data removed]",
      "text/plain": [
       "<Figure size 432x288 with 1 Axes>"
      ]
     },
     "metadata": {
      "needs_background": "light"
     },
     "output_type": "display_data"
    }
   ],
   "source": [
    "# Applying K-means clustering\n",
    "\n",
    "from sklearn.cluster import KMeans\n",
    "\n",
    "sse={} # error\n",
    "aov_clusters = aov_df[['aov']]\n",
    "for k in range(1, 10):\n",
    "    kmeans = KMeans(n_clusters=k, max_iter=1000).fit(aov_clusters)\n",
    "    aov_clusters[\"clusters\"] = kmeans.labels_  #cluster names corresponding to recency values \n",
    "    sse[k] = kmeans.inertia_ #sse corresponding to clusters\n",
    "plt.figure()\n",
    "plt.plot(list(sse.keys()), list(sse.values()))\n",
    "plt.xlabel(\"Number of cluster\")\n",
    "plt.show()"
   ]
  },
  {
   "cell_type": "code",
   "execution_count": 44,
   "id": "891acc54",
   "metadata": {
    "ExecuteTime": {
     "end_time": "2022-08-29T04:41:19.236542Z",
     "start_time": "2022-08-29T04:41:17.295013Z"
    }
   },
   "outputs": [
    {
     "data": {
      "text/html": [
       "<div>\n",
       "<style scoped>\n",
       "    .dataframe tbody tr th:only-of-type {\n",
       "        vertical-align: middle;\n",
       "    }\n",
       "\n",
       "    .dataframe tbody tr th {\n",
       "        vertical-align: top;\n",
       "    }\n",
       "\n",
       "    .dataframe thead th {\n",
       "        text-align: right;\n",
       "    }\n",
       "</style>\n",
       "<table border=\"1\" class=\"dataframe\">\n",
       "  <thead>\n",
       "    <tr style=\"text-align: right;\">\n",
       "      <th></th>\n",
       "      <th>aov</th>\n",
       "    </tr>\n",
       "    <tr>\n",
       "      <th>cluster</th>\n",
       "      <th></th>\n",
       "    </tr>\n",
       "  </thead>\n",
       "  <tbody>\n",
       "    <tr>\n",
       "      <th>3</th>\n",
       "      <td>5526.110545</td>\n",
       "    </tr>\n",
       "    <tr>\n",
       "      <th>1</th>\n",
       "      <td>2284.782451</td>\n",
       "    </tr>\n",
       "    <tr>\n",
       "      <th>2</th>\n",
       "      <td>897.836511</td>\n",
       "    </tr>\n",
       "    <tr>\n",
       "      <th>4</th>\n",
       "      <td>441.990158</td>\n",
       "    </tr>\n",
       "    <tr>\n",
       "      <th>0</th>\n",
       "      <td>255.399911</td>\n",
       "    </tr>\n",
       "  </tbody>\n",
       "</table>\n",
       "</div>"
      ],
      "text/plain": [
       "                 aov\n",
       "cluster             \n",
       "3        5526.110545\n",
       "1        2284.782451\n",
       "2         897.836511\n",
       "4         441.990158\n",
       "0         255.399911"
      ]
     },
     "execution_count": 44,
     "metadata": {},
     "output_type": "execute_result"
    }
   ],
   "source": [
    "\n",
    "kmeans = KMeans(n_clusters=5)\n",
    "kmeans.fit(aov_clusters)\n",
    "\n",
    "aov_clusters = aov_clusters.assign(cluster=kmeans.labels_)\n",
    "aov_clusters.groupby('cluster')['aov'].mean().sort_values(ascending=False).to_frame()"
   ]
  },
  {
   "cell_type": "markdown",
   "id": "f1277b7e",
   "metadata": {},
   "source": [
    "# Predicting Customer Lifetime Value"
   ]
  },
  {
   "cell_type": "markdown",
   "id": "fc19b905",
   "metadata": {},
   "source": [
    "CLV is obtained by \n",
    "$$CLV(t,t+dt) = E(M)~\\times~ E[Y(dt)~|~\\lambda, \\mu, x, t_x, T] $$"
   ]
  },
  {
   "cell_type": "code",
   "execution_count": 45,
   "id": "8562616f",
   "metadata": {
    "ExecuteTime": {
     "end_time": "2022-08-29T04:41:23.274777Z",
     "start_time": "2022-08-29T04:41:23.069565Z"
    }
   },
   "outputs": [
    {
     "data": {
      "text/plain": [
       "<lifetimes.BetaGeoFitter: fitted with 2819 subjects, a: 0.05, alpha: 86.64, b: 2.44, r: 1.83>"
      ]
     },
     "execution_count": 45,
     "metadata": {},
     "output_type": "execute_result"
    }
   ],
   "source": [
    "bgf.fit(returning_customers['frequency'], \n",
    "        returning_customers['recency'], \n",
    "        returning_customers['T'])"
   ]
  },
  {
   "cell_type": "code",
   "execution_count": 46,
   "id": "b3bce0b9",
   "metadata": {
    "ExecuteTime": {
     "end_time": "2022-08-29T04:41:27.119406Z",
     "start_time": "2022-08-29T04:41:26.802021Z"
    }
   },
   "outputs": [],
   "source": [
    "preds = ggf.customer_lifetime_value( bgf,\n",
    "                                    returning_customers['frequency'],\n",
    "                                    returning_customers['recency'],\n",
    "                                    returning_customers['T'],\n",
    "                                    returning_customers['monetary_value'],\n",
    "                                    time = 12,\n",
    "                                    discount_rate = 0.01\n",
    ")"
   ]
  },
  {
   "cell_type": "code",
   "execution_count": 48,
   "id": "2cde2bb4",
   "metadata": {
    "ExecuteTime": {
     "end_time": "2022-08-29T04:41:29.948632Z",
     "start_time": "2022-08-29T04:41:29.933261Z"
    }
   },
   "outputs": [
    {
     "data": {
      "text/html": [
       "<div>\n",
       "<style scoped>\n",
       "    .dataframe tbody tr th:only-of-type {\n",
       "        vertical-align: middle;\n",
       "    }\n",
       "\n",
       "    .dataframe tbody tr th {\n",
       "        vertical-align: top;\n",
       "    }\n",
       "\n",
       "    .dataframe thead th {\n",
       "        text-align: right;\n",
       "    }\n",
       "</style>\n",
       "<table border=\"1\" class=\"dataframe\">\n",
       "  <thead>\n",
       "    <tr style=\"text-align: right;\">\n",
       "      <th></th>\n",
       "      <th>Customer ID</th>\n",
       "      <th>clv</th>\n",
       "    </tr>\n",
       "  </thead>\n",
       "  <tbody>\n",
       "    <tr>\n",
       "      <th>2755</th>\n",
       "      <td>18102.0</td>\n",
       "      <td>245897.537033</td>\n",
       "    </tr>\n",
       "    <tr>\n",
       "      <th>1084</th>\n",
       "      <td>14646.0</td>\n",
       "      <td>172666.555419</td>\n",
       "    </tr>\n",
       "    <tr>\n",
       "      <th>833</th>\n",
       "      <td>14156.0</td>\n",
       "      <td>131875.262155</td>\n",
       "    </tr>\n",
       "    <tr>\n",
       "      <th>1212</th>\n",
       "      <td>14911.0</td>\n",
       "      <td>99407.391486</td>\n",
       "    </tr>\n",
       "    <tr>\n",
       "      <th>608</th>\n",
       "      <td>13694.0</td>\n",
       "      <td>91713.210005</td>\n",
       "    </tr>\n",
       "  </tbody>\n",
       "</table>\n",
       "</div>"
      ],
      "text/plain": [
       "      Customer ID            clv\n",
       "2755      18102.0  245897.537033\n",
       "1084      14646.0  172666.555419\n",
       "833       14156.0  131875.262155\n",
       "1212      14911.0   99407.391486\n",
       "608       13694.0   91713.210005"
      ]
     },
     "execution_count": 48,
     "metadata": {},
     "output_type": "execute_result"
    }
   ],
   "source": [
    "preds = preds.to_frame().reset_index()\n",
    "\n",
    "preds.sort_values(by='clv', ascending=False).head()\n"
   ]
  },
  {
   "cell_type": "code",
   "execution_count": 49,
   "id": "e1877d51",
   "metadata": {
    "ExecuteTime": {
     "end_time": "2022-08-29T04:41:40.356419Z",
     "start_time": "2022-08-29T04:41:40.342715Z"
    }
   },
   "outputs": [
    {
     "data": {
      "text/html": [
       "<div>\n",
       "<style scoped>\n",
       "    .dataframe tbody tr th:only-of-type {\n",
       "        vertical-align: middle;\n",
       "    }\n",
       "\n",
       "    .dataframe tbody tr th {\n",
       "        vertical-align: top;\n",
       "    }\n",
       "\n",
       "    .dataframe thead th {\n",
       "        text-align: right;\n",
       "    }\n",
       "</style>\n",
       "<table border=\"1\" class=\"dataframe\">\n",
       "  <thead>\n",
       "    <tr style=\"text-align: right;\">\n",
       "      <th></th>\n",
       "      <th>Customer ID</th>\n",
       "      <th>clv</th>\n",
       "    </tr>\n",
       "  </thead>\n",
       "  <tbody>\n",
       "    <tr>\n",
       "      <th>1618</th>\n",
       "      <td>15794.0</td>\n",
       "      <td>155.850951</td>\n",
       "    </tr>\n",
       "    <tr>\n",
       "      <th>1514</th>\n",
       "      <td>15577.0</td>\n",
       "      <td>153.072640</td>\n",
       "    </tr>\n",
       "    <tr>\n",
       "      <th>2453</th>\n",
       "      <td>17477.0</td>\n",
       "      <td>118.565071</td>\n",
       "    </tr>\n",
       "    <tr>\n",
       "      <th>2728</th>\n",
       "      <td>18051.0</td>\n",
       "      <td>95.785508</td>\n",
       "    </tr>\n",
       "    <tr>\n",
       "      <th>488</th>\n",
       "      <td>13457.0</td>\n",
       "      <td>87.614243</td>\n",
       "    </tr>\n",
       "  </tbody>\n",
       "</table>\n",
       "</div>"
      ],
      "text/plain": [
       "      Customer ID         clv\n",
       "1618      15794.0  155.850951\n",
       "1514      15577.0  153.072640\n",
       "2453      17477.0  118.565071\n",
       "2728      18051.0   95.785508\n",
       "488       13457.0   87.614243"
      ]
     },
     "execution_count": 49,
     "metadata": {},
     "output_type": "execute_result"
    }
   ],
   "source": [
    "preds.sort_values(by='clv', ascending=False).tail()\n"
   ]
  },
  {
   "cell_type": "code",
   "execution_count": null,
   "id": "055aa54a",
   "metadata": {},
   "outputs": [],
   "source": []
  }
 ],
 "metadata": {
  "kernelspec": {
   "display_name": "Python 3",
   "language": "python",
   "name": "python3"
  },
  "language_info": {
   "codemirror_mode": {
    "name": "ipython",
    "version": 3
   },
   "file_extension": ".py",
   "mimetype": "text/x-python",
   "name": "python",
   "nbconvert_exporter": "python",
   "pygments_lexer": "ipython3",
   "version": "3.7.4"
  }
 },
 "nbformat": 4,
 "nbformat_minor": 5
}
